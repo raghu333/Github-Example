{
 "cells": [
  {
   "cell_type": "code",
   "execution_count": 7,
   "metadata": {},
   "outputs": [],
   "source": [
    "from bs4 import BeautifulSoup\n",
    "import requests\n",
    "import pandas as pd "
   ]
  },
  {
   "cell_type": "code",
   "execution_count": 8,
   "metadata": {},
   "outputs": [],
   "source": [
    "URL = 'https://en.wikipedia.org/wiki/List_of_postal_codes_of_Canada:_M'\n",
    "response = requests.get(URL)\n",
    "soup = BeautifulSoup(response.text, 'html.parser')\n",
    "\n",
    "table = soup.find('table', {'class':'wikitable sortable'}).tbody  # Obtained from inspect (wiki - right click)"
   ]
  },
  {
   "cell_type": "code",
   "execution_count": 9,
   "metadata": {},
   "outputs": [],
   "source": [
    "rows = table.find_all('tr')\n",
    "columns = [v.text.replace('\\n', '') for v in rows[0].find_all('th')]"
   ]
  },
  {
   "cell_type": "code",
   "execution_count": 10,
   "metadata": {},
   "outputs": [],
   "source": [
    "df = pd.DataFrame(columns = columns)"
   ]
  },
  {
   "cell_type": "code",
   "execution_count": 11,
   "metadata": {},
   "outputs": [],
   "source": [
    "for i in range(1, len(rows)):\n",
    "    tds = rows[i].find_all('td')\n",
    "\n",
    "    if len(tds) == 3:\n",
    "        values = [tds[0].text, tds[1].text, tds[2].text.replace('\\n', '')]\n",
    "    else:\n",
    "        values = [td.text for td in tds]\n",
    "    df = df.append(pd.Series(values, index=columns), ignore_index = True)"
   ]
  },
  {
   "cell_type": "code",
   "execution_count": null,
   "metadata": {},
   "outputs": [],
   "source": []
  },
  {
   "cell_type": "code",
   "execution_count": 12,
   "metadata": {},
   "outputs": [],
   "source": [
    "# Getting the names of the indexes for which the Borough has a value - Not assigned\n",
    "indexNames = df[df['Borough'] == 'Not assigned'].index\n",
    "# Delete these rows index from the Data Frame\n",
    "df.drop(indexNames, inplace = True)"
   ]
  },
  {
   "cell_type": "code",
   "execution_count": 13,
   "metadata": {},
   "outputs": [],
   "source": [
    "# Replacing the Neighbourhood = \"Not Assigned\" to Borough values\n",
    "df.loc[(df.Neighbourhood == 'Not assigned'), 'Neighbourhood'] = df['Borough']"
   ]
  },
  {
   "cell_type": "code",
   "execution_count": 14,
   "metadata": {},
   "outputs": [],
   "source": [
    "# Grouping different neighbourhood based on the postcode.\n",
    "df = df.groupby('Postcode').agg({'Borough':'first', \n",
    "                                    'Neighbourhood': ','.join}).reset_index()"
   ]
  },
  {
   "cell_type": "code",
   "execution_count": 15,
   "metadata": {},
   "outputs": [],
   "source": [
    "df.to_csv('C:/Users/ragha/Desktop/Projects/PostalCode_Canada.csv', index = False)\n",
    "\n"
   ]
  },
  {
   "cell_type": "code",
   "execution_count": 16,
   "metadata": {},
   "outputs": [
    {
     "name": "stdout",
     "output_type": "stream",
     "text": [
      "(103, 3)\n"
     ]
    }
   ],
   "source": [
    "print(df.shape)\n"
   ]
  },
  {
   "cell_type": "code",
   "execution_count": 25,
   "metadata": {},
   "outputs": [],
   "source": [
    "####################### Second Part ###########################################"
   ]
  },
  {
   "cell_type": "code",
   "execution_count": 26,
   "metadata": {},
   "outputs": [],
   "source": [
    "# Import Geospatial csv file\n",
    "GeospatialData = pd.read_csv('C:/Users/ragha/Downloads/Geospatial_Coordinates.csv')\n",
    "#print(GeospatialData)"
   ]
  },
  {
   "cell_type": "code",
   "execution_count": 27,
   "metadata": {},
   "outputs": [],
   "source": [
    "Merger_Data = pd.merge(left = df, right = GeospatialData, left_on = 'Postcode', right_on = 'Postal Code')    "
   ]
  },
  {
   "cell_type": "code",
   "execution_count": 28,
   "metadata": {},
   "outputs": [
    {
     "name": "stdout",
     "output_type": "stream",
     "text": [
      "    Postcode           Borough  \\\n",
      "0        M1B       Scarborough   \n",
      "1        M1C       Scarborough   \n",
      "2        M1E       Scarborough   \n",
      "3        M1G       Scarborough   \n",
      "4        M1H       Scarborough   \n",
      "5        M1J       Scarborough   \n",
      "6        M1K       Scarborough   \n",
      "7        M1L       Scarborough   \n",
      "8        M1M       Scarborough   \n",
      "9        M1N       Scarborough   \n",
      "10       M1P       Scarborough   \n",
      "11       M1R       Scarborough   \n",
      "12       M1S       Scarborough   \n",
      "13       M1T       Scarborough   \n",
      "14       M1V       Scarborough   \n",
      "15       M1W       Scarborough   \n",
      "16       M1X       Scarborough   \n",
      "17       M2H        North York   \n",
      "18       M2J        North York   \n",
      "19       M2K        North York   \n",
      "20       M2L        North York   \n",
      "21       M2M        North York   \n",
      "22       M2N        North York   \n",
      "23       M2P        North York   \n",
      "24       M2R        North York   \n",
      "25       M3A        North York   \n",
      "26       M3B        North York   \n",
      "27       M3C        North York   \n",
      "28       M3H        North York   \n",
      "29       M3J        North York   \n",
      "..       ...               ...   \n",
      "73       M6C              York   \n",
      "74       M6E              York   \n",
      "75       M6G  Downtown Toronto   \n",
      "76       M6H      West Toronto   \n",
      "77       M6J      West Toronto   \n",
      "78       M6K      West Toronto   \n",
      "79       M6L        North York   \n",
      "80       M6M              York   \n",
      "81       M6N              York   \n",
      "82       M6P      West Toronto   \n",
      "83       M6R      West Toronto   \n",
      "84       M6S      West Toronto   \n",
      "85       M7A      Queen's Park   \n",
      "86       M7R       Mississauga   \n",
      "87       M7Y      East Toronto   \n",
      "88       M8V         Etobicoke   \n",
      "89       M8W         Etobicoke   \n",
      "90       M8X         Etobicoke   \n",
      "91       M8Y         Etobicoke   \n",
      "92       M8Z         Etobicoke   \n",
      "93       M9A         Etobicoke   \n",
      "94       M9B         Etobicoke   \n",
      "95       M9C         Etobicoke   \n",
      "96       M9L        North York   \n",
      "97       M9M        North York   \n",
      "98       M9N              York   \n",
      "99       M9P         Etobicoke   \n",
      "100      M9R         Etobicoke   \n",
      "101      M9V         Etobicoke   \n",
      "102      M9W         Etobicoke   \n",
      "\n",
      "                                         Neighbourhood   Latitude  Longitude  \n",
      "0                                        Rouge,Malvern  43.806686 -79.194353  \n",
      "1                 Highland Creek,Rouge Hill,Port Union  43.784535 -79.160497  \n",
      "2                      Guildwood,Morningside,West Hill  43.763573 -79.188711  \n",
      "3                                               Woburn  43.770992 -79.216917  \n",
      "4                                            Cedarbrae  43.773136 -79.239476  \n",
      "5                                  Scarborough Village  43.744734 -79.239476  \n",
      "6            East Birchmount Park,Ionview,Kennedy Park  43.727929 -79.262029  \n",
      "7                        Clairlea,Golden Mile,Oakridge  43.711112 -79.284577  \n",
      "8        Cliffcrest,Cliffside,Scarborough Village West  43.716316 -79.239476  \n",
      "9                           Birch Cliff,Cliffside West  43.692657 -79.264848  \n",
      "10   Dorset Park,Scarborough Town Centre,Wexford He...  43.757410 -79.273304  \n",
      "11                                    Maryvale,Wexford  43.750072 -79.295849  \n",
      "12                                           Agincourt  43.794200 -79.262029  \n",
      "13               Clarks Corners,Sullivan,Tam O'Shanter  43.781638 -79.304302  \n",
      "14   Agincourt North,L'Amoreaux East,Milliken,Steel...  43.815252 -79.284577  \n",
      "15                                     L'Amoreaux West  43.799525 -79.318389  \n",
      "16                                         Upper Rouge  43.836125 -79.205636  \n",
      "17                                   Hillcrest Village  43.803762 -79.363452  \n",
      "18                          Fairview,Henry Farm,Oriole  43.778517 -79.346556  \n",
      "19                                     Bayview Village  43.786947 -79.385975  \n",
      "20                             Silver Hills,York Mills  43.757490 -79.374714  \n",
      "21                              Newtonbrook,Willowdale  43.789053 -79.408493  \n",
      "22                                    Willowdale South  43.770120 -79.408493  \n",
      "23                                     York Mills West  43.752758 -79.400049  \n",
      "24                                     Willowdale West  43.782736 -79.442259  \n",
      "25                                           Parkwoods  43.753259 -79.329656  \n",
      "26                                     Don Mills North  43.745906 -79.352188  \n",
      "27                     Flemingdon Park,Don Mills South  43.725900 -79.340923  \n",
      "28       Bathurst Manor,Downsview North,Wilson Heights  43.754328 -79.442259  \n",
      "29                      Northwood Park,York University  43.767980 -79.487262  \n",
      "..                                                 ...        ...        ...  \n",
      "73                                  Humewood-Cedarvale  43.693781 -79.428191  \n",
      "74                                 Caledonia-Fairbanks  43.689026 -79.453512  \n",
      "75                                            Christie  43.669542 -79.422564  \n",
      "76                         Dovercourt Village,Dufferin  43.669005 -79.442259  \n",
      "77                             Little Portugal,Trinity  43.647927 -79.419750  \n",
      "78          Brockton,Exhibition Place,Parkdale Village  43.636847 -79.428191  \n",
      "79                    Downsview,North Park,Upwood Park  43.713756 -79.490074  \n",
      "80         Del Ray,Keelesdale,Mount Dennis,Silverthorn  43.691116 -79.476013  \n",
      "81                        The Junction North,Runnymede  43.673185 -79.487262  \n",
      "82                        High Park,The Junction South  43.661608 -79.464763  \n",
      "83                               Parkdale,Roncesvalles  43.648960 -79.456325  \n",
      "84                                   Runnymede,Swansea  43.651571 -79.484450  \n",
      "85                                        Queen's Park  43.662301 -79.389494  \n",
      "86               Canada Post Gateway Processing Centre  43.636966 -79.615819  \n",
      "87   Business Reply Mail Processing Centre 969 Eastern  43.662744 -79.321558  \n",
      "88          Humber Bay Shores,Mimico South,New Toronto  43.605647 -79.501321  \n",
      "89                               Alderwood,Long Branch  43.602414 -79.543484  \n",
      "90         The Kingsway,Montgomery Road,Old Mill North  43.653654 -79.506944  \n",
      "91   Humber Bay,King's Mill Park,Kingsway Park Sout...  43.636258 -79.498509  \n",
      "92   Kingsway Park South West,Mimico NW,The Queensw...  43.628841 -79.520999  \n",
      "93                                    Islington Avenue  43.667856 -79.532242  \n",
      "94   Cloverdale,Islington,Martin Grove,Princess Gar...  43.650943 -79.554724  \n",
      "95   Bloordale Gardens,Eringate,Markland Wood,Old B...  43.643515 -79.577201  \n",
      "96                                       Humber Summit  43.756303 -79.565963  \n",
      "97                                     Emery,Humberlea  43.724766 -79.532242  \n",
      "98                                              Weston  43.706876 -79.518188  \n",
      "99                                           Westmount  43.696319 -79.532242  \n",
      "100  Kingsview Village,Martin Grove Gardens,Richvie...  43.688905 -79.554724  \n",
      "101  Albion Gardens,Beaumond Heights,Humbergate,Jam...  43.739416 -79.588437  \n",
      "102                                          Northwest  43.706748 -79.594054  \n",
      "\n",
      "[103 rows x 5 columns]\n"
     ]
    }
   ],
   "source": [
    "print(Merger_Data[['Postcode','Borough', 'Neighbourhood', 'Latitude', 'Longitude']])"
   ]
  },
  {
   "cell_type": "code",
   "execution_count": null,
   "metadata": {},
   "outputs": [],
   "source": []
  },
  {
   "cell_type": "code",
   "execution_count": null,
   "metadata": {},
   "outputs": [],
   "source": []
  }
 ],
 "metadata": {
  "kernelspec": {
   "display_name": "Python 3",
   "language": "python",
   "name": "python3"
  },
  "language_info": {
   "codemirror_mode": {
    "name": "ipython",
    "version": 3
   },
   "file_extension": ".py",
   "mimetype": "text/x-python",
   "name": "python",
   "nbconvert_exporter": "python",
   "pygments_lexer": "ipython3",
   "version": "3.7.3"
  }
 },
 "nbformat": 4,
 "nbformat_minor": 2
}
